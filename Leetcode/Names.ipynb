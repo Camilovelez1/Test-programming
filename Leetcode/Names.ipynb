{
 "cells": [
  {
   "cell_type": "markdown",
   "metadata": {},
   "source": [
    "Un fanático de Harry Potter desea crear una lista con sus personajes favoritos del día. Ese fanático al inicio del día piensa en la cantidad de personajes que desea agregar a su lista de personajes favoritos (por ejemplo, hoy quiero agregar mis 3 personajes favoritos). Y luego menciona 3 nombres de personajes de Harry Potter. Pero ojo, si uno de esos nombres empieza por la letra \"L\" entonces no lo agrega a la lista de favoritos (el fanático odia los nombres que empiezan por \"L\").\n",
    "\n",
    "Cree un programa en Python donde:\n",
    "\n",
    "    Cree una lista vacía de personajes favoritos del día.\n",
    "    Pida al usuario por pantalla un número entero (la cantidad de nombres de personajes a analizar ese día).\n",
    "    Cree un ciclo que se repita tantas veces como el número ingresado anteriormente. Y luego en cada iteración del ciclo haga lo siguiente:\n",
    "\n",
    "    Pida al usuario por pantalla un nombre de personaje.\n",
    "    Si el nombre del personaje empieza por \"L\" no haga nada. De lo contrario, agregue ese nombre de personaje a la lista de personajes favoritos.\n",
    "\n",
    "    Imprima por pantalla la lista de personajes favoritos del día.\n",
    "\n",
    "Ejemplo 1:\n",
    "\n",
    "Si el usuario ingresa:\n",
    "\n",
    "3\n",
    "Harry Potter\n",
    "Ron Weasley\n",
    "Lord Voldemort\n",
    "\n",
    "El programa debe imprimir:\n",
    "\n",
    "['Harry Potter', 'Ron Weasley']\n",
    "\n",
    "Ejemplo 2:\n",
    "\n",
    "Si el usuario ingresa:\n",
    "\n",
    "2\n",
    "Ron Weasley\n",
    "Lord Voldemort\n",
    "\n",
    "El programa debe imprimir:\n",
    "\n",
    "['Ron Weasley']"
   ]
  },
  {
   "cell_type": "code",
   "execution_count": 1,
   "metadata": {},
   "outputs": [],
   "source": [
    "names=[]\n",
    "numer_names=int(input(\"ingre el numero de nombres: \"))\n",
    "i=0\n",
    "\n",
    "while(i<numer_names):\n",
    "    n=i+1\n",
    "    name=str(input(\"Ingrese el nombre {}: \".format(n))) \n",
    "    check_name=name.lower()\n",
    "    if check_name[0] != \"l\":\n",
    "        names.append(name)\n",
    "    i+=1"
   ]
  },
  {
   "cell_type": "code",
   "execution_count": 2,
   "metadata": {},
   "outputs": [
    {
     "data": {
      "text/plain": [
       "['ANGELITA', 'Camilo']"
      ]
     },
     "execution_count": 2,
     "metadata": {},
     "output_type": "execute_result"
    }
   ],
   "source": [
    "names"
   ]
  },
  {
   "cell_type": "code",
   "execution_count": 37,
   "metadata": {},
   "outputs": [
    {
     "name": "stdout",
     "output_type": "stream",
     "text": [
      "Nombres guardados: ['Camilo']\n"
     ]
    }
   ],
   "source": [
    "numer_names = int(input(\"Ingrese el número de nombres: \"))\n",
    "names = []\n",
    "\n",
    "for i in range(numer_names):\n",
    "    name = input(f\"Ingrese el nombre {i + 1}: \")\n",
    "    if not name.lower().startswith('l'):\n",
    "        names.append(name)\n",
    "\n",
    "print(\"Nombres guardados:\", names)\n"
   ]
  }
 ],
 "metadata": {
  "kernelspec": {
   "display_name": "Test-programming-l8qleOSp",
   "language": "python",
   "name": "python3"
  },
  "language_info": {
   "codemirror_mode": {
    "name": "ipython",
    "version": 3
   },
   "file_extension": ".py",
   "mimetype": "text/x-python",
   "name": "python",
   "nbconvert_exporter": "python",
   "pygments_lexer": "ipython3",
   "version": "3.11.5"
  }
 },
 "nbformat": 4,
 "nbformat_minor": 2
}
