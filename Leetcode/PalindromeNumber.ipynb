{
 "cells": [
  {
   "cell_type": "markdown",
   "metadata": {},
   "source": [
    "9. Palindrome Number\n",
    "\n",
    "        Easy\n",
    "\n",
    "        Topics Companies Hint Given an integer x, return true if x is a palindrome, and false otherwise.\n",
    "\n",
    "        Example 1:\n",
    "\n",
    "        Input: x = 121\n",
    "        Output: true\n",
    "        Explanation: 121 reads as 121 from left to right and from right to left.\n",
    "        Example 2:\n",
    "\n",
    "        Input: x = -121\n",
    "        Output: false\n",
    "        Explanation: From left to right, it reads -121. From right to left, it becomes 121-. Therefore it is not a palindrome.\n",
    "        Example 3:\n",
    "\n",
    "        Input: x = 10\n",
    "        Output: false\n",
    "        Explanation: Reads 01 from right to left. Therefore it is not a palindrome.\n",
    "        \n",
    "\n",
    "        Constraints:\n",
    "\n",
    "        -231 <= x <= 231 - 1\n",
    "        \n",
    "\n",
    "        Follow up: Could you solve it without converting the integer to a string?"
   ]
  },
  {
   "cell_type": "code",
   "execution_count": 65,
   "metadata": {},
   "outputs": [],
   "source": [
    "class Solution:\n",
    "    def isPalindrome(self, x: int) -> bool:\n",
    "        x = str(x)\n",
    "        s = len(x)\n",
    "        new_str = []\n",
    "        for i in range(s-1,-1,-1):\n",
    "            new_str.append(x[i])\n",
    "        combined_string = \"\".join(new_str)\n",
    "        if combined_string == x:\n",
    "            return True\n",
    "        else:\n",
    "            return False"
   ]
  },
  {
   "cell_type": "code",
   "execution_count": 67,
   "metadata": {},
   "outputs": [
    {
     "name": "stdout",
     "output_type": "stream",
     "text": [
      "False\n"
     ]
    }
   ],
   "source": [
    "solution = Solution()\n",
    "result = solution.isPalindrome(123)  \n",
    "print(result)"
   ]
  }
 ],
 "metadata": {
  "kernelspec": {
   "display_name": "Test-programming-l8qleOSp",
   "language": "python",
   "name": "python3"
  },
  "language_info": {
   "codemirror_mode": {
    "name": "ipython",
    "version": 3
   },
   "file_extension": ".py",
   "mimetype": "text/x-python",
   "name": "python",
   "nbconvert_exporter": "python",
   "pygments_lexer": "ipython3",
   "version": "3.11.5"
  }
 },
 "nbformat": 4,
 "nbformat_minor": 2
}
