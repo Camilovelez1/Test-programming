{
 "cells": [
  {
   "cell_type": "markdown",
   "metadata": {},
   "source": [
    "1. Two Sum\n",
    "        Attempted\n",
    "\n",
    "        Easy\n",
    "\n",
    "        Topics Companies Hint\n",
    "        \n",
    "        Given an array of integers nums and an integer target, return indices of the two numbers such that they add up to target.\n",
    "\n",
    "        You may assume that each input would have exactly one solution, and you may not use the same element twice.\n",
    "\n",
    "        You can return the answer in any order.\n",
    "\n",
    "        \n",
    "\n",
    "        Example 1:\n",
    "\n",
    "        Input: nums = [2,7,11,15], target = 9\n",
    "        Output: [0,1]\n",
    "        Explanation: Because nums[0] + nums[1] == 9, we return [0, 1].\n",
    "        Example 2:\n",
    "\n",
    "        Input: nums = [3,2,4], target = 6\n",
    "        Output: [1,2]\n",
    "        Example 3:\n",
    "\n",
    "        Input: nums = [3,3], target = 6\n",
    "        Output: [0,1]\n",
    "        \n",
    "\n",
    "        Constraints:\n",
    "\n",
    "        2 <= nums.length <= 104\n",
    "        -109 <= nums[i] <= 109\n",
    "        -109 <= target <= 109\n",
    "        Only one valid answer exists.\n",
    "        \n",
    "\n",
    "        Follow-up: Can you come up with an algorithm that is less than O(n2) time complexity?"
   ]
  },
  {
   "cell_type": "code",
   "execution_count": 1,
   "metadata": {},
   "outputs": [],
   "source": [
    "nums = [2,7,11,15]\n",
    "target = 9"
   ]
  },
  {
   "cell_type": "code",
   "execution_count": 2,
   "metadata": {},
   "outputs": [],
   "source": [
    "nums = [2,7,11,15]\n",
    "target = 9\n",
    "\n",
    "def twoSum(nums: [int], target: int):\n",
    "    listr=[]\n",
    "    x=0\n",
    "    z=0\n",
    "    a = []\n",
    "    for x in range(len(nums)):\n",
    "        y = (nums[x] - target)\n",
    "        a.append(y)\n",
    "        for z in range(len(a)):\n",
    "            w = y -(a[z])\n",
    "            if w == 0:\n",
    "                listr.append(x)\n",
    "                listr.append(z)\n",
    "    return listr"
   ]
  },
  {
   "cell_type": "code",
   "execution_count": 3,
   "metadata": {},
   "outputs": [
    {
     "data": {
      "text/plain": [
       "[0, 0, 1, 1, 2, 2, 3, 3]"
      ]
     },
     "execution_count": 3,
     "metadata": {},
     "output_type": "execute_result"
    }
   ],
   "source": [
    "twoSum(nums, target)"
   ]
  },
  {
   "cell_type": "code",
   "execution_count": 4,
   "metadata": {},
   "outputs": [],
   "source": [
    "nums = [2,7,11,15]\n",
    "target = 9\n",
    "\n",
    "def twoSum2(nums: [int], target: int):\n",
    "    for x in range(len(nums)):\n",
    "        for y in range(len(nums)):\n",
    "            if (x+y) == target:\n",
    "               return x, y\n"
   ]
  },
  {
   "cell_type": "code",
   "execution_count": 5,
   "metadata": {},
   "outputs": [],
   "source": [
    "twoSum2(nums, target)"
   ]
  },
  {
   "cell_type": "code",
   "execution_count": 41,
   "metadata": {},
   "outputs": [],
   "source": [
    "def twoSum3(nums: [int], target: int):\n",
    "    for x in range(len(nums)):\n",
    "        for y in range(len(nums)):\n",
    "            if (x+y) == target:\n",
    "                num1 = (nums[x])\n",
    "                num2 = (nums[y])\n",
    "            return print(num1, num2)"
   ]
  },
  {
   "cell_type": "code",
   "execution_count": 42,
   "metadata": {},
   "outputs": [
    {
     "ename": "UnboundLocalError",
     "evalue": "cannot access local variable 'num1' where it is not associated with a value",
     "output_type": "error",
     "traceback": [
      "\u001b[0;31m---------------------------------------------------------------------------\u001b[0m",
      "\u001b[0;31mUnboundLocalError\u001b[0m                         Traceback (most recent call last)",
      "Cell \u001b[0;32mIn[42], line 3\u001b[0m\n\u001b[1;32m      1\u001b[0m nums \u001b[38;5;241m=\u001b[39m [\u001b[38;5;241m2\u001b[39m,\u001b[38;5;241m7\u001b[39m,\u001b[38;5;241m11\u001b[39m,\u001b[38;5;241m15\u001b[39m]\n\u001b[1;32m      2\u001b[0m target \u001b[38;5;241m=\u001b[39m \u001b[38;5;241m9\u001b[39m\n\u001b[0;32m----> 3\u001b[0m \u001b[43mtwoSum3\u001b[49m\u001b[43m(\u001b[49m\u001b[43mnums\u001b[49m\u001b[43m,\u001b[49m\u001b[43m \u001b[49m\u001b[43mtarget\u001b[49m\u001b[43m)\u001b[49m\n",
      "Cell \u001b[0;32mIn[41], line 7\u001b[0m, in \u001b[0;36mtwoSum3\u001b[0;34m(nums, target)\u001b[0m\n\u001b[1;32m      5\u001b[0m     num1 \u001b[38;5;241m=\u001b[39m (nums[x])\n\u001b[1;32m      6\u001b[0m     num2 \u001b[38;5;241m=\u001b[39m (nums[y])\n\u001b[0;32m----> 7\u001b[0m \u001b[38;5;28;01mreturn\u001b[39;00m \u001b[38;5;28mprint\u001b[39m(\u001b[43mnum1\u001b[49m, num2)\n",
      "\u001b[0;31mUnboundLocalError\u001b[0m: cannot access local variable 'num1' where it is not associated with a value"
     ]
    }
   ],
   "source": [
    "nums = [2,7,11,15]\n",
    "target = 9\n",
    "twoSum3(nums, target)"
   ]
  },
  {
   "cell_type": "code",
   "execution_count": 8,
   "metadata": {},
   "outputs": [
    {
     "name": "stdout",
     "output_type": "stream",
     "text": [
      "apple\n",
      "banana\n",
      "cherry\n"
     ]
    }
   ],
   "source": [
    "thislist = [\"apple\", \"banana\", \"cherry\"]\n",
    "for x in thislist:\n",
    "  print(x)"
   ]
  },
  {
   "cell_type": "code",
   "execution_count": 27,
   "metadata": {},
   "outputs": [
    {
     "name": "stdout",
     "output_type": "stream",
     "text": [
      "apple\n",
      "banana\n",
      "cherry\n"
     ]
    }
   ],
   "source": [
    "thislist = [\"apple\", \"banana\", \"cherry\"]\n",
    "for i in range(len(thislist)):\n",
    "  print(thislist[i])"
   ]
  },
  {
   "cell_type": "code",
   "execution_count": 15,
   "metadata": {},
   "outputs": [],
   "source": [
    "def twoSum4(nums: [int], target: int):\n",
    "    if len(nums)==2:\n",
    "        new_list=[0,1]\n",
    "    else:\n",
    "        new_list = [x for x in range(len(nums)) for y in range(len(nums)) if x != y and nums[x] + nums[y] == target]\n",
    "\n",
    "    return new_list"
   ]
  },
  {
   "cell_type": "code",
   "execution_count": 22,
   "metadata": {},
   "outputs": [
    {
     "name": "stdout",
     "output_type": "stream",
     "text": [
      "CPU times: user 1 µs, sys: 0 ns, total: 1 µs\n",
      "Wall time: 3.34 µs\n"
     ]
    },
    {
     "data": {
      "text/plain": [
       "[0, 1]"
      ]
     },
     "execution_count": 22,
     "metadata": {},
     "output_type": "execute_result"
    }
   ],
   "source": [
    "%time\n",
    "nums = [2,7,11,15]\n",
    "target = 9\n",
    "twoSum4(nums, target)"
   ]
  },
  {
   "cell_type": "code",
   "execution_count": 23,
   "metadata": {},
   "outputs": [
    {
     "name": "stdout",
     "output_type": "stream",
     "text": [
      "CPU times: user 2 µs, sys: 0 ns, total: 2 µs\n",
      "Wall time: 4.05 µs\n"
     ]
    },
    {
     "data": {
      "text/plain": [
       "[1, 2]"
      ]
     },
     "execution_count": 23,
     "metadata": {},
     "output_type": "execute_result"
    }
   ],
   "source": [
    "%time\n",
    "nums = [3,2,4]\n",
    "target = 6\n",
    "twoSum4(nums, target)"
   ]
  },
  {
   "cell_type": "code",
   "execution_count": 24,
   "metadata": {},
   "outputs": [
    {
     "name": "stdout",
     "output_type": "stream",
     "text": [
      "CPU times: user 3 µs, sys: 1 µs, total: 4 µs\n",
      "Wall time: 7.63 µs\n"
     ]
    },
    {
     "data": {
      "text/plain": [
       "[0, 1]"
      ]
     },
     "execution_count": 24,
     "metadata": {},
     "output_type": "execute_result"
    }
   ],
   "source": [
    "%time\n",
    "nums = [3,3]\n",
    "target = 6\n",
    "twoSum4(nums, target)"
   ]
  },
  {
   "cell_type": "code",
   "execution_count": 25,
   "metadata": {},
   "outputs": [
    {
     "name": "stdout",
     "output_type": "stream",
     "text": [
      "CPU times: user 0 ns, sys: 2 µs, total: 2 µs\n",
      "Wall time: 3.1 µs\n"
     ]
    },
    {
     "data": {
      "text/plain": [
       "[0, 2]"
      ]
     },
     "execution_count": 25,
     "metadata": {},
     "output_type": "execute_result"
    }
   ],
   "source": [
    "%time\n",
    "nums = [3,2,3]\n",
    "target = 6\n",
    "twoSum4(nums, target)"
   ]
  },
  {
   "cell_type": "markdown",
   "metadata": {},
   "source": [
    "The following answer is the best option"
   ]
  },
  {
   "cell_type": "code",
   "execution_count": 5,
   "metadata": {},
   "outputs": [
    {
     "name": "stdout",
     "output_type": "stream",
     "text": [
      "CPU times: user 2 µs, sys: 0 ns, total: 2 µs\n",
      "Wall time: 5.48 µs\n"
     ]
    },
    {
     "data": {
      "text/plain": [
       "[0, 1]"
      ]
     },
     "execution_count": 5,
     "metadata": {},
     "output_type": "execute_result"
    }
   ],
   "source": [
    "from typing import List\n",
    "\n",
    "class Solution:\n",
    "    def twoSum(self, nums: List[int], target: int) -> List[int]:\n",
    "        complement_map = {}\n",
    "    \n",
    "        for i, num in enumerate(nums):\n",
    "            complement = target - num\n",
    "            \n",
    "            # If the complement is found in the map, return the solution\n",
    "            if complement in complement_map:\n",
    "                return [complement_map[complement], i]\n",
    "            \n",
    "            # Store the current number's index as a potential complement for future numbers\n",
    "            complement_map[num] = i\n",
    "            \n",
    "        # Return an empty list if no solution is found\n",
    "        # This line is optional depending on if you want to signal no solution explicitly\n",
    "        return []\n",
    "\n",
    "# Example usage\n",
    "%time\n",
    "nums = [2, 7, 11, 15]\n",
    "target = 9\n",
    "solution = Solution()\n",
    "solution.twoSum(nums, target)\n"
   ]
  }
 ],
 "metadata": {
  "kernelspec": {
   "display_name": "Test-programming-l8qleOSp",
   "language": "python",
   "name": "python3"
  },
  "language_info": {
   "codemirror_mode": {
    "name": "ipython",
    "version": 3
   },
   "file_extension": ".py",
   "mimetype": "text/x-python",
   "name": "python",
   "nbconvert_exporter": "python",
   "pygments_lexer": "ipython3",
   "version": "3.11.5"
  }
 },
 "nbformat": 4,
 "nbformat_minor": 2
}
