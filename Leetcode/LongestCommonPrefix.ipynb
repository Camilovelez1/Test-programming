{
 "cells": [
  {
   "cell_type": "markdown",
   "id": "77bfa2dc",
   "metadata": {},
   "source": [
    "Write a function to find the longest common prefix string amongst an array of strings.\n",
    "\n",
    "If there is no common prefix, return an empty string \"\".\n",
    "\n",
    "Example 1:\n",
    "\n",
    "Input: strs = [\"flower\",\"flow\",\"flight\"]\n",
    "Output: \"fl\"\n",
    "Example 2:\n",
    "\n",
    "Input: strs = [\"dog\",\"racecar\",\"car\"]\n",
    "Output: \"\"\n",
    "Explanation: There is no common prefix among the input strings.\n",
    "\n",
    "Constraints:\n",
    "\n",
    "1 <= strs.length <= 200\n",
    "0 <= strs[i].length <= 200\n",
    "strs[i] consists of only lowercase English letters if it is non-empty.\n"
   ]
  },
  {
   "cell_type": "code",
   "execution_count": 4,
   "id": "4a46c527",
   "metadata": {},
   "outputs": [],
   "source": [
    "from typing import List"
   ]
  },
  {
   "cell_type": "code",
   "execution_count": null,
   "id": "223ad8ca",
   "metadata": {},
   "outputs": [],
   "source": [
    "strs = [\"flower\", \"flow\", \"flight\"]"
   ]
  },
  {
   "cell_type": "code",
   "execution_count": null,
   "id": "750d24fd",
   "metadata": {},
   "outputs": [],
   "source": [
    "class Solution:\n",
    "    def longestCommonPrefix(self, strs: List[str]) -> str:\n",
    "        length_strs = min(len(word) for word in strs)\n",
    "        common_letters = \"\".join(\n",
    "            strs[0][i]\n",
    "            for i in range(length_strs)\n",
    "            if len(set(word[i] for word in strs)) == 1\n",
    "        )\n",
    "\n",
    "        return common_letters"
   ]
  },
  {
   "cell_type": "code",
   "execution_count": null,
   "id": "19855aa8",
   "metadata": {},
   "outputs": [
    {
     "name": "stdout",
     "output_type": "stream",
     "text": [
      "cr\n"
     ]
    }
   ],
   "source": [
    "sol = Solution()\n",
    "print(sol.longestCommonPrefix([\"cir\", \"car\"]))"
   ]
  }
 ],
 "metadata": {
  "kernelspec": {
   "display_name": ".venv",
   "language": "python",
   "name": "python3"
  },
  "language_info": {
   "codemirror_mode": {
    "name": "ipython",
    "version": 3
   },
   "file_extension": ".py",
   "mimetype": "text/x-python",
   "name": "python",
   "nbconvert_exporter": "python",
   "pygments_lexer": "ipython3",
   "version": "3.11.5"
  }
 },
 "nbformat": 4,
 "nbformat_minor": 5
}
